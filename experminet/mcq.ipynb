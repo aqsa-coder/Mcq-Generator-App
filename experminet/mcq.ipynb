{
 "cells": [
  {
   "cell_type": "code",
   "execution_count": 2,
   "metadata": {},
   "outputs": [],
   "source": [
    "import os\n",
    "import json\n",
    "import pandas as pd\n",
    "import traceback"
   ]
  },
  {
   "cell_type": "code",
   "execution_count": 3,
   "metadata": {},
   "outputs": [],
   "source": [
    "from langchain.chat_models import ChatOpenAI"
   ]
  },
  {
   "cell_type": "code",
   "execution_count": 4,
   "metadata": {},
   "outputs": [
    {
     "data": {
      "text/plain": [
       "False"
      ]
     },
     "execution_count": 4,
     "metadata": {},
     "output_type": "execute_result"
    }
   ],
   "source": [
    "from dotenv import load_dotenv\n",
    "\n",
    "load_dotenv()"
   ]
  },
  {
   "cell_type": "code",
   "execution_count": 5,
   "metadata": {},
   "outputs": [],
   "source": [
    "KEY =\"enter your key here\""
   ]
  },
  {
   "cell_type": "code",
   "execution_count": 6,
   "metadata": {},
   "outputs": [
    {
     "name": "stderr",
     "output_type": "stream",
     "text": [
      "/var/folders/vn/t_h6pnkj18v28kq_7dvxyyw80000gn/T/ipykernel_3885/746436948.py:1: LangChainDeprecationWarning: The class `ChatOpenAI` was deprecated in LangChain 0.0.10 and will be removed in 1.0. An updated version of the class exists in the langchain-openai package and should be used instead. To use it run `pip install -U langchain-openai` and import as `from langchain_openai import ChatOpenAI`.\n",
      "  llm = ChatOpenAI(openai_api_key=KEY,model_name=\"gpt-3.5-turbo\")\n"
     ]
    }
   ],
   "source": [
    "llm = ChatOpenAI(openai_api_key=KEY,model_name=\"gpt-3.5-turbo\")"
   ]
  },
  {
   "cell_type": "code",
   "execution_count": null,
   "metadata": {},
   "outputs": [],
   "source": [
    "llm"
   ]
  },
  {
   "cell_type": "code",
   "execution_count": 8,
   "metadata": {},
   "outputs": [],
   "source": [
    "from langchain.llms import OpenAI\n",
    "from langchain.prompts import PromptTemplate\n",
    "from langchain.chains import LLMChain\n",
    "from langchain.chains import SequentialChain\n",
    "from langchain.callbacks import get_openai_callback\n",
    "import PyPDF2"
   ]
  },
  {
   "cell_type": "code",
   "execution_count": 9,
   "metadata": {},
   "outputs": [],
   "source": [
    "RESPONSE_JSON = {\n",
    "    \"1\":{\n",
    "        \"mcq\" : \"multiple choice question\",\n",
    "        \"options\":{\n",
    "            \"a\":\"choice here\",\n",
    "            \"b\":\"choice here\",\n",
    "            \"c\":\"choice here\",\n",
    "            \"d\":\"choice here\"\n",
    "        },\n",
    "        \"correct\":\"correct answer\",\n",
    "    },\n",
    "    \"2\":{\n",
    "        \"mcq\" : \"multiple choice question\",\n",
    "        \"options\":{\n",
    "            \"a\":\"choice here\",\n",
    "            \"b\":\"choice here\",\n",
    "            \"c\":\"choice here\",\n",
    "            \"d\":\"choice here\"\n",
    "        },\n",
    "        \"correct\":\"correct answer\",\n",
    "    },\n",
    "    \"3\":{\n",
    "        \"mcq\" : \"multiple choice question\",\n",
    "        \"options\":{\n",
    "            \"a\":\"choice here\",\n",
    "            \"b\":\"choice here\",\n",
    "            \"c\":\"choice here\",\n",
    "            \"d\":\"choice here\"\n",
    "        },\n",
    "        \"correct\":\"correct answer\",\n",
    "    },\n",
    "    \"4\":{\n",
    "        \"mcq\" : \"multiple choice question\",\n",
    "        \"options\":{\n",
    "            \"a\":\"choice here\",\n",
    "            \"b\":\"choice here\",\n",
    "            \"c\":\"choice here\",\n",
    "            \"d\":\"choice here\"\n",
    "        },\n",
    "        \"correct\":\"correct answer\",\n",
    "    },\n",
    "    \"5\":{\n",
    "        \"mcq\" : \"multiple choice question\",\n",
    "        \"options\":{\n",
    "            \"a\":\"choice here\",\n",
    "            \"b\":\"choice here\",\n",
    "            \"c\":\"choice here\",\n",
    "            \"d\":\"choice here\"\n",
    "        },\n",
    "        \"correct\":\"correct answer\",\n",
    "    }\n",
    "}"
   ]
  },
  {
   "cell_type": "code",
   "execution_count": 10,
   "metadata": {},
   "outputs": [],
   "source": [
    "TEMPLATE = \"\"\"\n",
    "Text:{text}\n",
    "You are an expert MCQ maker. Given the above text, it is your job to\\\n",
    "create a quiz of {number} multiple choice questions for {subject} students in {tone} tone.\n",
    "Make sure the questions are not repeated and check all the questions to be conforming the text as well.\n",
    "Make sure to format your response like RESPONSE_JSON below and use it as a guide.\\\n",
    "Ensure to make {number} MCQs.\n",
    "### RESPONSE_JSON\n",
    "{response_json}\n",
    "\n",
    "\n",
    "\"\"\""
   ]
  },
  {
   "cell_type": "code",
   "execution_count": 11,
   "metadata": {},
   "outputs": [],
   "source": [
    "quiz_generation_prompt=PromptTemplate(\n",
    "    input_variables=[\"text\", \"number\", \"subject\", \"tone\", \"response_json\"],\n",
    "    template = TEMPLATE\n",
    ")"
   ]
  },
  {
   "cell_type": "code",
   "execution_count": 12,
   "metadata": {},
   "outputs": [
    {
     "name": "stderr",
     "output_type": "stream",
     "text": [
      "/var/folders/vn/t_h6pnkj18v28kq_7dvxyyw80000gn/T/ipykernel_3885/1817962920.py:1: LangChainDeprecationWarning: The class `LLMChain` was deprecated in LangChain 0.1.17 and will be removed in 1.0. Use RunnableSequence, e.g., `prompt | llm` instead.\n",
      "  quiz_chain = LLMChain(llm=llm, prompt=quiz_generation_prompt, output_key=\"quiz\", verbose=\"True\")\n"
     ]
    }
   ],
   "source": [
    "quiz_chain = LLMChain(llm=llm, prompt=quiz_generation_prompt, output_key=\"quiz\", verbose=\"True\")"
   ]
  },
  {
   "cell_type": "code",
   "execution_count": 13,
   "metadata": {},
   "outputs": [],
   "source": [
    "TEMPLATE2 = \"\"\"\n",
    "Text:{text}\n",
    "You are an expert English grammarian and writer. Given a multiple choice quiz for {subject} students.\\\n",
    "You need to evaluate the complexity of the question and give a complete analysis of the quiz. Only use at max 50 words for the complexity,\n",
    "if the quiz is not as per with the cognitive and analytical abilities of the students,\\\n",
    "update the quiz questions which needs to be changed and change the tone such that it perfectly fits the students ability.\n",
    "Quiz_MCQs:\n",
    "{quiz}\n",
    "\n",
    "\n",
    "Check from an expert English Writer of the above quiz:\n",
    "\"\"\""
   ]
  },
  {
   "cell_type": "code",
   "execution_count": 14,
   "metadata": {},
   "outputs": [],
   "source": [
    "quiz_evaluation_prompt=PromptTemplate(input_variables=[\"subject\",\"quiz\"], template=TEMPLATE2)"
   ]
  },
  {
   "cell_type": "code",
   "execution_count": 16,
   "metadata": {},
   "outputs": [],
   "source": [
    "review_chain=LLMChain(llm=llm,prompt=quiz_evaluation_prompt,output_key=\"review\", verbose=\"True\")"
   ]
  },
  {
   "cell_type": "markdown",
   "metadata": {},
   "source": [
    "##### I have created a quiz chain and then the review chain now I'm going to create a squentail chain to join both of them"
   ]
  },
  {
   "cell_type": "code",
   "execution_count": 17,
   "metadata": {},
   "outputs": [],
   "source": [
    "# create an object of this sequential chain\n",
    "generate_evaluate_chain=SequentialChain(\n",
    "    chains=[quiz_chain,review_chain],\n",
    "    input_variables=[\"text\",\"number\",\"subject\",\"tone\", \"response_json\"],\n",
    "    output_variables=[\"quiz\",\"review\"],\n",
    "    verbose=\"True\",\n",
    ")"
   ]
  },
  {
   "cell_type": "markdown",
   "metadata": {},
   "source": [
    "### I'm going to read the data from data.txt from particular file"
   ]
  },
  {
   "cell_type": "code",
   "execution_count": 22,
   "metadata": {},
   "outputs": [],
   "source": [
    "file_path=r\"/Users/aqsashakoor/Mydocuments/openAI/MCQGen/data.txt\""
   ]
  },
  {
   "cell_type": "code",
   "execution_count": 19,
   "metadata": {},
   "outputs": [
    {
     "data": {
      "text/plain": [
       "'/Users/aqsashakoor/Mydocuments/openAI/MCQGen/experminet/data.txt'"
      ]
     },
     "execution_count": 19,
     "metadata": {},
     "output_type": "execute_result"
    }
   ],
   "source": [
    "file_path"
   ]
  },
  {
   "cell_type": "code",
   "execution_count": 23,
   "metadata": {},
   "outputs": [],
   "source": [
    "with open(file_path,'r') as file:\n",
    "    TEXT = file.read()"
   ]
  },
  {
   "cell_type": "code",
   "execution_count": 24,
   "metadata": {},
   "outputs": [
    {
     "name": "stdout",
     "output_type": "stream",
     "text": [
      "Sayyid Ibrahim Husayn Shadhili Qutb[a] (9 October 1906 – 29 August 1966) was an Egyptian political theorist and revolutionary who was a leading member of the Muslim Brotherhood. He is dubbed the \"father of Salafi jihadism\", the religio-political doctrine that underpins the ideological roots of global jihadist organisations such as al-Qaeda and ISIL.\n",
      "\n",
      "Author of 24 books,[5] with around 30 books unpublished for different reasons (mainly destruction by the state),[6] and at least 581 articles,[7] including novels, literary arts critique and works on education, he is best known in the Muslim world for his work on what he believed to be the social and political role of Islam, particularly in his books Social Justice and Ma'alim fi al-Tariq (Milestones). His magnum opus, Fi Zilal al-Qur'an (In the Shade of the Qur'an), is a 30-volume commentary on the Quran.[8]\n",
      "\n",
      "During most of his life, Qutb's inner circle mainly consisted of influential politicians, intellectuals, poets and literary figures, both of his age and of the preceding generation. By the mid-1940s, many of his writings were included in the curricula of schools, colleges and universities.[9] In 1966, he was convicted of plotting the assassination of Egyptian President Gamal Abdel Nasser and was executed by hanging.\n",
      "\n",
      "Even though most of his observations and criticism were leveled at the Muslim world, Qutb also intensely disapproved of the society and culture of the United States,[10][11] which he saw as materialistic, and obsessed with violence and sexual pleasures.[12] He advocated violent, offensive jihad.[13][14] Qutb has been described by followers as a great thinker and martyr for Islam,[15][16] while many Western observers (and some Muslims)[Note 2] see him as a key originator of Islamist ideology,[18] and an inspiration for violent Islamist groups such as al-Qaeda. Qutb is widely regarded as one of the most leading Islamist ideologues of the twentieth century. Strengthened by his status as a martyr, Qutb's ideas on Jahiliyya and his close linking of implementation of sharia (Islamic Law) with Tawhid (Islamic monotheism) has highly influenced contemporary Islamist and Jihadist movements.[19] Today, his supporters are identified by their opponents as \"Qutbists\"[20] or \"Qutbi\".[21]\n",
      "\n",
      "Life and public career\n",
      "Early life\n",
      "Sayyid Ibrahim Husayn Shadhili Qutb was born on 9 October 1906.[22] He was raised in the Egyptian village of Musha, located in Upper Egypt's Asyut Province. His father, whose sixth great-grandfather was an Indian Muslim,[23][24] was an Upper Egyptian landowner and the administrator of the family estate, but he was also well known for his political activism, holding weekly meetings to discuss the political events and Qur'anic recitation.[25][23][24] At this young age, Sayyid Qutb first learned about melodic recitations of the Qur'an, which would fuel the artistic side of his personality. He eventually memorized the whole Qur'an at 10.[26]\n",
      "\n",
      "A precocious child, during these years, he began collecting different types of books, including Sherlock Holmes stories, A Thousand and One Nights, and texts on astrology and magic that he would use to help local people with exorcisms (ruqya.)[27] In his teens, Qutb was critical of the religious institutions with which he came into contact, holding in contempt the way in which those institutions were used to form public opinion and thoughts. He had a special disdain, however, for schools that specialized in religious studies only, and sought to demonstrate that local schools that held regular academic classes as well as classes in religion were more beneficial to their pupils than religious schools with lopsided curricula. At this time, Qutb developed his bent against the imams and their traditional approach to education. This confrontation would persist throughout his life.[28]\n",
      "\n",
      "Qutb moved to Cairo, where between 1929 and 1933 he received an education based on the British style of schooling before starting his career as a teacher in the Ministry of Public Instruction. During his early career, Qutb devoted himself to literature as an author and critic, writing such novels as Ashwak (Thorns) and even helped to elevate Egyptian novelist Naguib Mahfouz from obscurity. He wrote his very first article in the literary magazine al-Balagh in 1922, and his first book, Muhimmat al-Sha’ir fi al-Haya wa Shi’r al-Jil al-Hadir (The Mission of the Poet in Life and the Poetry of the Present Generation), in 1932, when he was 25, in his last year at Dar al-Ulum.[29] As a literary critic, he was particularly influenced by ‘Abd al-Qahir al-Jurjani (d. 1078), \"in his view one of the few mediaeval philologists to have concentrated on meaning and aesthetic value at the expense of form and rhetoric.\"[30] In 1939, he became a functionary in Egypt's Ministry of Education (wizarat al-ma'arif).\n",
      "\n",
      "In the early 1940s, he encountered the work of Nobel Prize-winner French eugenicist Alexis Carrel, who would have a seminal and lasting influence on his criticism of Western civilization, as \"instead of liberating man, as the post-Enlightenment narrative claimed, he believed that Western modernity enmeshed people in spiritually numbing networks of control and discipline, and that rather than building caring communities, it cultivated attitudes of selfish individualism. Qutb regarded Carrel as a rare sort of Western thinker, one who understood that his civilization \"depreciated humanity\" by honouring the \"machine\" over the \"spirit and soul\" (al-nafs wa al-ruh). He saw Carrel's critique, coming as it did from within the enemy camp, as providing his discourse with an added measure of legitimacy.\"[31]\n",
      "\n",
      "From 1948 to 1950, he went to the United States on a scholarship to study its educational system, spending several months at Colorado State College of Education (now the University of Northern Colorado) in Greeley, Colorado. Qutb's first major theoretical work of religious social criticism, Al-'adala al-Ijtima'iyya fi-l-Islam (Social Justice in Islam), was published in 1949, during his time in the West.\n",
      "\n",
      "Though Islam gave him much peace and contentment,[32] he suffered from respiratory and other health problems throughout his life and was known for \"his introvertedness, isolation, depression and concern.\" In appearance, he was \"pale with sleepy eyes.\"[33] Qutb never married, in part because of his steadfast religious convictions. While the urban Egyptian society he lived in was becoming more Westernized, Qutb believed the Quran taught women that 'Men are the managers of women's affairs ...'[34] Qutb lamented to his readers that he was never able to find a woman of sufficient \"moral purity and discretion\" and had to reconcile himself to bachelorhood.[35]\n",
      "\n",
      "It was clear from his childhood that Qutb valued education, playing the part of a teacher to the women in his village:\n",
      "\n",
      "\"Syed Qutb from a young age would save up his money for a man called Amsaalih, who used to sell books around the local villages. He would have a big collection of books, and another small collection specifically for Syed Qutb. If Syed never had the money, he would tell him that I don't have the money now, so let me borrow it and I'll give it you next time you come around. And Amsaalih would let him do that. At the age of 12, he had his own library collection of 25 books, even though books were really expensive during that time. He would imitate the scholars by reading the books, and then give lectures to the rest of the village. If any women needed any information, they would wait till Syed Qutb came back from school, and ask him to share the knowledge he had to them. In many occasions he would be shy because he was a young man, but in some occasions he would go and teach the knowledge he had to the people who asked him.\"[36]\n",
      "\n",
      "Two years in the United States\n",
      "Time in the United States, pursuing further studies in educational administration, cemented some of Qutb's views. Over two years, he worked and studied at Wilson Teachers' College in Washington, D.C. (one of the precursors to today's University of the District of Columbia), Colorado State College for Education (now the University of Northern Colorado) in Greeley, and Stanford University.[37] He visited the major cities of the United States and spent time in Europe on his journey home.\n",
      "\n",
      "Before his departure from the United States, even though more and more conservative, he still was \"Western in so many ways – his dress, his love of classical music and Hollywood movies. He had read, in translation, the works of Charles Darwin and Albert Einstein, Lord Byron and Percy Bysshe Shelley, and had immersed himself in French literature, especially Victor Hugo\".[38]\n",
      "\n",
      "Criticisms of American culture and society: \"The America that I Have Seen\"\n",
      "On his return to Egypt, Qutb in 1951 published \"The America that I Have Seen\", where he became explicitly critical of things he had observed in the United States, eventually encapsulating the West more generally: its materialism, individual freedoms, economic system, \"poor\" haircuts,[11] superficiality in conversations and friendships,[39] restrictions on divorce, enthusiasm for sports, lack of artistic feeling,[39] \"animal-like\" mixing of the genders (which \"went on even in churches\"),[40] and strong support for the new Israeli state.[41] Hisham Sabrin, noted that:\n",
      "\n",
      "As a brown person in Greeley, Colorado in the late 1940s studying English he came across much prejudice. He was appalled by what he perceived as loose sexual openness of American men and women (a far cry from his home of Musha, Asyut). This American experience was for him a fine-tuning of his Islamic identity. He himself tells us on his boat trip over \"Should I travel to America, and become flimsy, and ordinary, like those who are satisfied with idle talk and sleep. Or should I distinguish myself with values and spirit. Is there other than Islam that I should be steadfast to in its character and hold on to its instructions, in this life amidst deviant chaos, and the endless means of satisfying animalistic desires, pleasures, and awful sins? I wanted to be the latter man.\"[citation needed]\n",
      "\n",
      "Qutb noted with disapproval the openly displayed sexuality of American women:\n",
      "\n",
      "The American girl is well acquainted with her body's seductive capacity. She knows it lies in the face, and in expressive eyes, and thirsty lips. She knows seductiveness lies in the round breasts, the full buttocks, and in the shapely thighs, sleek legs—and she shows all this and does not hide it.[11]\n",
      "\n",
      "He also commented on the American taste in arts:\n",
      "\n",
      "The American is primitive in his artistic taste, both in what he enjoys as art and in his own artistic works. \"Jazz\" music is his music of choice. This is that music that the Negroes invented to satisfy their primitive inclinations, as well as their desire to be noisy on the one hand and to excite bestial tendencies on the other. The American's intoxication in \"jazz\" music does not reach its full completion until the music is accompanied by singing that is just as coarse and obnoxious as the music itself. Meanwhile, the noise of the instruments and the voices mounts, and it rings in the ears to an unbearable degree ... The agitation of the multitude increases, and the voices of approval mount, and their palms ring out in vehement, continuous applause that all but deafens the ears.[39]\n",
      "\n",
      "Return to Egypt\n",
      "Qutb concluded that major aspects of American life were primitive and \"shocking\"; he saw Americans as \"numb to faith in religion, faith in art, and faith in spiritual values altogether\". His experience in the United States formed in part the impetus for his rejection of Western values and his move towards Islamism upon returning to Egypt. Resigning from the civil service, he joined the Muslim Brotherhood in the early 1950s[42] and became editor-in-chief of the Brothers' weekly Al-Ikhwan al-Muslimin, and later head of its propaganda[43][44] section, as well as an appointed member of the working committee and of its guidance council, the highest branch in the organization.[45]\n"
     ]
    }
   ],
   "source": [
    "print(TEXT)"
   ]
  },
  {
   "cell_type": "code",
   "execution_count": 25,
   "metadata": {},
   "outputs": [],
   "source": [
    "# serialize the python dictionary into a JSON-formatted string\n",
    "json_str = json.dumps(RESPONSE_JSON)\n"
   ]
  },
  {
   "cell_type": "code",
   "execution_count": 26,
   "metadata": {},
   "outputs": [],
   "source": [
    "NUMBER=5\n",
    "SUBJECT=\"History\"\n",
    "TONE=\"Formal\""
   ]
  },
  {
   "cell_type": "code",
   "execution_count": 27,
   "metadata": {},
   "outputs": [
    {
     "name": "stderr",
     "output_type": "stream",
     "text": [
      "/var/folders/vn/t_h6pnkj18v28kq_7dvxyyw80000gn/T/ipykernel_3885/3951843590.py:5: LangChainDeprecationWarning: The method `Chain.__call__` was deprecated in langchain 0.1.0 and will be removed in 1.0. Use invoke instead.\n",
      "  response=generate_evaluate_chain(\n"
     ]
    },
    {
     "name": "stdout",
     "output_type": "stream",
     "text": [
      "\n",
      "\n",
      "\u001b[1m> Entering new SequentialChain chain...\u001b[0m\n",
      "\n",
      "\n",
      "\u001b[1m> Entering new LLMChain chain...\u001b[0m\n",
      "Prompt after formatting:\n",
      "\u001b[32;1m\u001b[1;3m\n",
      "Text:Sayyid Ibrahim Husayn Shadhili Qutb[a] (9 October 1906 – 29 August 1966) was an Egyptian political theorist and revolutionary who was a leading member of the Muslim Brotherhood. He is dubbed the \"father of Salafi jihadism\", the religio-political doctrine that underpins the ideological roots of global jihadist organisations such as al-Qaeda and ISIL.\n",
      "\n",
      "Author of 24 books,[5] with around 30 books unpublished for different reasons (mainly destruction by the state),[6] and at least 581 articles,[7] including novels, literary arts critique and works on education, he is best known in the Muslim world for his work on what he believed to be the social and political role of Islam, particularly in his books Social Justice and Ma'alim fi al-Tariq (Milestones). His magnum opus, Fi Zilal al-Qur'an (In the Shade of the Qur'an), is a 30-volume commentary on the Quran.[8]\n",
      "\n",
      "During most of his life, Qutb's inner circle mainly consisted of influential politicians, intellectuals, poets and literary figures, both of his age and of the preceding generation. By the mid-1940s, many of his writings were included in the curricula of schools, colleges and universities.[9] In 1966, he was convicted of plotting the assassination of Egyptian President Gamal Abdel Nasser and was executed by hanging.\n",
      "\n",
      "Even though most of his observations and criticism were leveled at the Muslim world, Qutb also intensely disapproved of the society and culture of the United States,[10][11] which he saw as materialistic, and obsessed with violence and sexual pleasures.[12] He advocated violent, offensive jihad.[13][14] Qutb has been described by followers as a great thinker and martyr for Islam,[15][16] while many Western observers (and some Muslims)[Note 2] see him as a key originator of Islamist ideology,[18] and an inspiration for violent Islamist groups such as al-Qaeda. Qutb is widely regarded as one of the most leading Islamist ideologues of the twentieth century. Strengthened by his status as a martyr, Qutb's ideas on Jahiliyya and his close linking of implementation of sharia (Islamic Law) with Tawhid (Islamic monotheism) has highly influenced contemporary Islamist and Jihadist movements.[19] Today, his supporters are identified by their opponents as \"Qutbists\"[20] or \"Qutbi\".[21]\n",
      "\n",
      "Life and public career\n",
      "Early life\n",
      "Sayyid Ibrahim Husayn Shadhili Qutb was born on 9 October 1906.[22] He was raised in the Egyptian village of Musha, located in Upper Egypt's Asyut Province. His father, whose sixth great-grandfather was an Indian Muslim,[23][24] was an Upper Egyptian landowner and the administrator of the family estate, but he was also well known for his political activism, holding weekly meetings to discuss the political events and Qur'anic recitation.[25][23][24] At this young age, Sayyid Qutb first learned about melodic recitations of the Qur'an, which would fuel the artistic side of his personality. He eventually memorized the whole Qur'an at 10.[26]\n",
      "\n",
      "A precocious child, during these years, he began collecting different types of books, including Sherlock Holmes stories, A Thousand and One Nights, and texts on astrology and magic that he would use to help local people with exorcisms (ruqya.)[27] In his teens, Qutb was critical of the religious institutions with which he came into contact, holding in contempt the way in which those institutions were used to form public opinion and thoughts. He had a special disdain, however, for schools that specialized in religious studies only, and sought to demonstrate that local schools that held regular academic classes as well as classes in religion were more beneficial to their pupils than religious schools with lopsided curricula. At this time, Qutb developed his bent against the imams and their traditional approach to education. This confrontation would persist throughout his life.[28]\n",
      "\n",
      "Qutb moved to Cairo, where between 1929 and 1933 he received an education based on the British style of schooling before starting his career as a teacher in the Ministry of Public Instruction. During his early career, Qutb devoted himself to literature as an author and critic, writing such novels as Ashwak (Thorns) and even helped to elevate Egyptian novelist Naguib Mahfouz from obscurity. He wrote his very first article in the literary magazine al-Balagh in 1922, and his first book, Muhimmat al-Sha’ir fi al-Haya wa Shi’r al-Jil al-Hadir (The Mission of the Poet in Life and the Poetry of the Present Generation), in 1932, when he was 25, in his last year at Dar al-Ulum.[29] As a literary critic, he was particularly influenced by ‘Abd al-Qahir al-Jurjani (d. 1078), \"in his view one of the few mediaeval philologists to have concentrated on meaning and aesthetic value at the expense of form and rhetoric.\"[30] In 1939, he became a functionary in Egypt's Ministry of Education (wizarat al-ma'arif).\n",
      "\n",
      "In the early 1940s, he encountered the work of Nobel Prize-winner French eugenicist Alexis Carrel, who would have a seminal and lasting influence on his criticism of Western civilization, as \"instead of liberating man, as the post-Enlightenment narrative claimed, he believed that Western modernity enmeshed people in spiritually numbing networks of control and discipline, and that rather than building caring communities, it cultivated attitudes of selfish individualism. Qutb regarded Carrel as a rare sort of Western thinker, one who understood that his civilization \"depreciated humanity\" by honouring the \"machine\" over the \"spirit and soul\" (al-nafs wa al-ruh). He saw Carrel's critique, coming as it did from within the enemy camp, as providing his discourse with an added measure of legitimacy.\"[31]\n",
      "\n",
      "From 1948 to 1950, he went to the United States on a scholarship to study its educational system, spending several months at Colorado State College of Education (now the University of Northern Colorado) in Greeley, Colorado. Qutb's first major theoretical work of religious social criticism, Al-'adala al-Ijtima'iyya fi-l-Islam (Social Justice in Islam), was published in 1949, during his time in the West.\n",
      "\n",
      "Though Islam gave him much peace and contentment,[32] he suffered from respiratory and other health problems throughout his life and was known for \"his introvertedness, isolation, depression and concern.\" In appearance, he was \"pale with sleepy eyes.\"[33] Qutb never married, in part because of his steadfast religious convictions. While the urban Egyptian society he lived in was becoming more Westernized, Qutb believed the Quran taught women that 'Men are the managers of women's affairs ...'[34] Qutb lamented to his readers that he was never able to find a woman of sufficient \"moral purity and discretion\" and had to reconcile himself to bachelorhood.[35]\n",
      "\n",
      "It was clear from his childhood that Qutb valued education, playing the part of a teacher to the women in his village:\n",
      "\n",
      "\"Syed Qutb from a young age would save up his money for a man called Amsaalih, who used to sell books around the local villages. He would have a big collection of books, and another small collection specifically for Syed Qutb. If Syed never had the money, he would tell him that I don't have the money now, so let me borrow it and I'll give it you next time you come around. And Amsaalih would let him do that. At the age of 12, he had his own library collection of 25 books, even though books were really expensive during that time. He would imitate the scholars by reading the books, and then give lectures to the rest of the village. If any women needed any information, they would wait till Syed Qutb came back from school, and ask him to share the knowledge he had to them. In many occasions he would be shy because he was a young man, but in some occasions he would go and teach the knowledge he had to the people who asked him.\"[36]\n",
      "\n",
      "Two years in the United States\n",
      "Time in the United States, pursuing further studies in educational administration, cemented some of Qutb's views. Over two years, he worked and studied at Wilson Teachers' College in Washington, D.C. (one of the precursors to today's University of the District of Columbia), Colorado State College for Education (now the University of Northern Colorado) in Greeley, and Stanford University.[37] He visited the major cities of the United States and spent time in Europe on his journey home.\n",
      "\n",
      "Before his departure from the United States, even though more and more conservative, he still was \"Western in so many ways – his dress, his love of classical music and Hollywood movies. He had read, in translation, the works of Charles Darwin and Albert Einstein, Lord Byron and Percy Bysshe Shelley, and had immersed himself in French literature, especially Victor Hugo\".[38]\n",
      "\n",
      "Criticisms of American culture and society: \"The America that I Have Seen\"\n",
      "On his return to Egypt, Qutb in 1951 published \"The America that I Have Seen\", where he became explicitly critical of things he had observed in the United States, eventually encapsulating the West more generally: its materialism, individual freedoms, economic system, \"poor\" haircuts,[11] superficiality in conversations and friendships,[39] restrictions on divorce, enthusiasm for sports, lack of artistic feeling,[39] \"animal-like\" mixing of the genders (which \"went on even in churches\"),[40] and strong support for the new Israeli state.[41] Hisham Sabrin, noted that:\n",
      "\n",
      "As a brown person in Greeley, Colorado in the late 1940s studying English he came across much prejudice. He was appalled by what he perceived as loose sexual openness of American men and women (a far cry from his home of Musha, Asyut). This American experience was for him a fine-tuning of his Islamic identity. He himself tells us on his boat trip over \"Should I travel to America, and become flimsy, and ordinary, like those who are satisfied with idle talk and sleep. Or should I distinguish myself with values and spirit. Is there other than Islam that I should be steadfast to in its character and hold on to its instructions, in this life amidst deviant chaos, and the endless means of satisfying animalistic desires, pleasures, and awful sins? I wanted to be the latter man.\"[citation needed]\n",
      "\n",
      "Qutb noted with disapproval the openly displayed sexuality of American women:\n",
      "\n",
      "The American girl is well acquainted with her body's seductive capacity. She knows it lies in the face, and in expressive eyes, and thirsty lips. She knows seductiveness lies in the round breasts, the full buttocks, and in the shapely thighs, sleek legs—and she shows all this and does not hide it.[11]\n",
      "\n",
      "He also commented on the American taste in arts:\n",
      "\n",
      "The American is primitive in his artistic taste, both in what he enjoys as art and in his own artistic works. \"Jazz\" music is his music of choice. This is that music that the Negroes invented to satisfy their primitive inclinations, as well as their desire to be noisy on the one hand and to excite bestial tendencies on the other. The American's intoxication in \"jazz\" music does not reach its full completion until the music is accompanied by singing that is just as coarse and obnoxious as the music itself. Meanwhile, the noise of the instruments and the voices mounts, and it rings in the ears to an unbearable degree ... The agitation of the multitude increases, and the voices of approval mount, and their palms ring out in vehement, continuous applause that all but deafens the ears.[39]\n",
      "\n",
      "Return to Egypt\n",
      "Qutb concluded that major aspects of American life were primitive and \"shocking\"; he saw Americans as \"numb to faith in religion, faith in art, and faith in spiritual values altogether\". His experience in the United States formed in part the impetus for his rejection of Western values and his move towards Islamism upon returning to Egypt. Resigning from the civil service, he joined the Muslim Brotherhood in the early 1950s[42] and became editor-in-chief of the Brothers' weekly Al-Ikhwan al-Muslimin, and later head of its propaganda[43][44] section, as well as an appointed member of the working committee and of its guidance council, the highest branch in the organization.[45]\n",
      "You are an expert MCQ maker. Given the above text, it is your job tocreate a quiz of 5 multiple choice questions for History students in Formal tone.\n",
      "Make sure the questions are not repeated and check all the questions to be conforming the text as well.\n",
      "Make sure to format your response like RESPONSE_JSON below and use it as a guide.Ensure to make 5 MCQs.\n",
      "### RESPONSE_JSON\n",
      "{\"1\": {\"mcq\": \"multiple choice question\", \"options\": {\"a\": \"choice here\", \"b\": \"choice here\", \"c\": \"choice here\", \"d\": \"choice here\"}, \"correct\": \"correct answer\"}, \"2\": {\"mcq\": \"multiple choice question\", \"options\": {\"a\": \"choice here\", \"b\": \"choice here\", \"c\": \"choice here\", \"d\": \"choice here\"}, \"correct\": \"correct answer\"}, \"3\": {\"mcq\": \"multiple choice question\", \"options\": {\"a\": \"choice here\", \"b\": \"choice here\", \"c\": \"choice here\", \"d\": \"choice here\"}, \"correct\": \"correct answer\"}, \"4\": {\"mcq\": \"multiple choice question\", \"options\": {\"a\": \"choice here\", \"b\": \"choice here\", \"c\": \"choice here\", \"d\": \"choice here\"}, \"correct\": \"correct answer\"}, \"5\": {\"mcq\": \"multiple choice question\", \"options\": {\"a\": \"choice here\", \"b\": \"choice here\", \"c\": \"choice here\", \"d\": \"choice here\"}, \"correct\": \"correct answer\"}}\n",
      "\n",
      "\n",
      "\u001b[0m\n",
      "\n",
      "\u001b[1m> Finished chain.\u001b[0m\n",
      "\n",
      "\n",
      "\u001b[1m> Entering new LLMChain chain...\u001b[0m\n",
      "Prompt after formatting:\n",
      "\u001b[32;1m\u001b[1;3m\n",
      "Text:Sayyid Ibrahim Husayn Shadhili Qutb[a] (9 October 1906 – 29 August 1966) was an Egyptian political theorist and revolutionary who was a leading member of the Muslim Brotherhood. He is dubbed the \"father of Salafi jihadism\", the religio-political doctrine that underpins the ideological roots of global jihadist organisations such as al-Qaeda and ISIL.\n",
      "\n",
      "Author of 24 books,[5] with around 30 books unpublished for different reasons (mainly destruction by the state),[6] and at least 581 articles,[7] including novels, literary arts critique and works on education, he is best known in the Muslim world for his work on what he believed to be the social and political role of Islam, particularly in his books Social Justice and Ma'alim fi al-Tariq (Milestones). His magnum opus, Fi Zilal al-Qur'an (In the Shade of the Qur'an), is a 30-volume commentary on the Quran.[8]\n",
      "\n",
      "During most of his life, Qutb's inner circle mainly consisted of influential politicians, intellectuals, poets and literary figures, both of his age and of the preceding generation. By the mid-1940s, many of his writings were included in the curricula of schools, colleges and universities.[9] In 1966, he was convicted of plotting the assassination of Egyptian President Gamal Abdel Nasser and was executed by hanging.\n",
      "\n",
      "Even though most of his observations and criticism were leveled at the Muslim world, Qutb also intensely disapproved of the society and culture of the United States,[10][11] which he saw as materialistic, and obsessed with violence and sexual pleasures.[12] He advocated violent, offensive jihad.[13][14] Qutb has been described by followers as a great thinker and martyr for Islam,[15][16] while many Western observers (and some Muslims)[Note 2] see him as a key originator of Islamist ideology,[18] and an inspiration for violent Islamist groups such as al-Qaeda. Qutb is widely regarded as one of the most leading Islamist ideologues of the twentieth century. Strengthened by his status as a martyr, Qutb's ideas on Jahiliyya and his close linking of implementation of sharia (Islamic Law) with Tawhid (Islamic monotheism) has highly influenced contemporary Islamist and Jihadist movements.[19] Today, his supporters are identified by their opponents as \"Qutbists\"[20] or \"Qutbi\".[21]\n",
      "\n",
      "Life and public career\n",
      "Early life\n",
      "Sayyid Ibrahim Husayn Shadhili Qutb was born on 9 October 1906.[22] He was raised in the Egyptian village of Musha, located in Upper Egypt's Asyut Province. His father, whose sixth great-grandfather was an Indian Muslim,[23][24] was an Upper Egyptian landowner and the administrator of the family estate, but he was also well known for his political activism, holding weekly meetings to discuss the political events and Qur'anic recitation.[25][23][24] At this young age, Sayyid Qutb first learned about melodic recitations of the Qur'an, which would fuel the artistic side of his personality. He eventually memorized the whole Qur'an at 10.[26]\n",
      "\n",
      "A precocious child, during these years, he began collecting different types of books, including Sherlock Holmes stories, A Thousand and One Nights, and texts on astrology and magic that he would use to help local people with exorcisms (ruqya.)[27] In his teens, Qutb was critical of the religious institutions with which he came into contact, holding in contempt the way in which those institutions were used to form public opinion and thoughts. He had a special disdain, however, for schools that specialized in religious studies only, and sought to demonstrate that local schools that held regular academic classes as well as classes in religion were more beneficial to their pupils than religious schools with lopsided curricula. At this time, Qutb developed his bent against the imams and their traditional approach to education. This confrontation would persist throughout his life.[28]\n",
      "\n",
      "Qutb moved to Cairo, where between 1929 and 1933 he received an education based on the British style of schooling before starting his career as a teacher in the Ministry of Public Instruction. During his early career, Qutb devoted himself to literature as an author and critic, writing such novels as Ashwak (Thorns) and even helped to elevate Egyptian novelist Naguib Mahfouz from obscurity. He wrote his very first article in the literary magazine al-Balagh in 1922, and his first book, Muhimmat al-Sha’ir fi al-Haya wa Shi’r al-Jil al-Hadir (The Mission of the Poet in Life and the Poetry of the Present Generation), in 1932, when he was 25, in his last year at Dar al-Ulum.[29] As a literary critic, he was particularly influenced by ‘Abd al-Qahir al-Jurjani (d. 1078), \"in his view one of the few mediaeval philologists to have concentrated on meaning and aesthetic value at the expense of form and rhetoric.\"[30] In 1939, he became a functionary in Egypt's Ministry of Education (wizarat al-ma'arif).\n",
      "\n",
      "In the early 1940s, he encountered the work of Nobel Prize-winner French eugenicist Alexis Carrel, who would have a seminal and lasting influence on his criticism of Western civilization, as \"instead of liberating man, as the post-Enlightenment narrative claimed, he believed that Western modernity enmeshed people in spiritually numbing networks of control and discipline, and that rather than building caring communities, it cultivated attitudes of selfish individualism. Qutb regarded Carrel as a rare sort of Western thinker, one who understood that his civilization \"depreciated humanity\" by honouring the \"machine\" over the \"spirit and soul\" (al-nafs wa al-ruh). He saw Carrel's critique, coming as it did from within the enemy camp, as providing his discourse with an added measure of legitimacy.\"[31]\n",
      "\n",
      "From 1948 to 1950, he went to the United States on a scholarship to study its educational system, spending several months at Colorado State College of Education (now the University of Northern Colorado) in Greeley, Colorado. Qutb's first major theoretical work of religious social criticism, Al-'adala al-Ijtima'iyya fi-l-Islam (Social Justice in Islam), was published in 1949, during his time in the West.\n",
      "\n",
      "Though Islam gave him much peace and contentment,[32] he suffered from respiratory and other health problems throughout his life and was known for \"his introvertedness, isolation, depression and concern.\" In appearance, he was \"pale with sleepy eyes.\"[33] Qutb never married, in part because of his steadfast religious convictions. While the urban Egyptian society he lived in was becoming more Westernized, Qutb believed the Quran taught women that 'Men are the managers of women's affairs ...'[34] Qutb lamented to his readers that he was never able to find a woman of sufficient \"moral purity and discretion\" and had to reconcile himself to bachelorhood.[35]\n",
      "\n",
      "It was clear from his childhood that Qutb valued education, playing the part of a teacher to the women in his village:\n",
      "\n",
      "\"Syed Qutb from a young age would save up his money for a man called Amsaalih, who used to sell books around the local villages. He would have a big collection of books, and another small collection specifically for Syed Qutb. If Syed never had the money, he would tell him that I don't have the money now, so let me borrow it and I'll give it you next time you come around. And Amsaalih would let him do that. At the age of 12, he had his own library collection of 25 books, even though books were really expensive during that time. He would imitate the scholars by reading the books, and then give lectures to the rest of the village. If any women needed any information, they would wait till Syed Qutb came back from school, and ask him to share the knowledge he had to them. In many occasions he would be shy because he was a young man, but in some occasions he would go and teach the knowledge he had to the people who asked him.\"[36]\n",
      "\n",
      "Two years in the United States\n",
      "Time in the United States, pursuing further studies in educational administration, cemented some of Qutb's views. Over two years, he worked and studied at Wilson Teachers' College in Washington, D.C. (one of the precursors to today's University of the District of Columbia), Colorado State College for Education (now the University of Northern Colorado) in Greeley, and Stanford University.[37] He visited the major cities of the United States and spent time in Europe on his journey home.\n",
      "\n",
      "Before his departure from the United States, even though more and more conservative, he still was \"Western in so many ways – his dress, his love of classical music and Hollywood movies. He had read, in translation, the works of Charles Darwin and Albert Einstein, Lord Byron and Percy Bysshe Shelley, and had immersed himself in French literature, especially Victor Hugo\".[38]\n",
      "\n",
      "Criticisms of American culture and society: \"The America that I Have Seen\"\n",
      "On his return to Egypt, Qutb in 1951 published \"The America that I Have Seen\", where he became explicitly critical of things he had observed in the United States, eventually encapsulating the West more generally: its materialism, individual freedoms, economic system, \"poor\" haircuts,[11] superficiality in conversations and friendships,[39] restrictions on divorce, enthusiasm for sports, lack of artistic feeling,[39] \"animal-like\" mixing of the genders (which \"went on even in churches\"),[40] and strong support for the new Israeli state.[41] Hisham Sabrin, noted that:\n",
      "\n",
      "As a brown person in Greeley, Colorado in the late 1940s studying English he came across much prejudice. He was appalled by what he perceived as loose sexual openness of American men and women (a far cry from his home of Musha, Asyut). This American experience was for him a fine-tuning of his Islamic identity. He himself tells us on his boat trip over \"Should I travel to America, and become flimsy, and ordinary, like those who are satisfied with idle talk and sleep. Or should I distinguish myself with values and spirit. Is there other than Islam that I should be steadfast to in its character and hold on to its instructions, in this life amidst deviant chaos, and the endless means of satisfying animalistic desires, pleasures, and awful sins? I wanted to be the latter man.\"[citation needed]\n",
      "\n",
      "Qutb noted with disapproval the openly displayed sexuality of American women:\n",
      "\n",
      "The American girl is well acquainted with her body's seductive capacity. She knows it lies in the face, and in expressive eyes, and thirsty lips. She knows seductiveness lies in the round breasts, the full buttocks, and in the shapely thighs, sleek legs—and she shows all this and does not hide it.[11]\n",
      "\n",
      "He also commented on the American taste in arts:\n",
      "\n",
      "The American is primitive in his artistic taste, both in what he enjoys as art and in his own artistic works. \"Jazz\" music is his music of choice. This is that music that the Negroes invented to satisfy their primitive inclinations, as well as their desire to be noisy on the one hand and to excite bestial tendencies on the other. The American's intoxication in \"jazz\" music does not reach its full completion until the music is accompanied by singing that is just as coarse and obnoxious as the music itself. Meanwhile, the noise of the instruments and the voices mounts, and it rings in the ears to an unbearable degree ... The agitation of the multitude increases, and the voices of approval mount, and their palms ring out in vehement, continuous applause that all but deafens the ears.[39]\n",
      "\n",
      "Return to Egypt\n",
      "Qutb concluded that major aspects of American life were primitive and \"shocking\"; he saw Americans as \"numb to faith in religion, faith in art, and faith in spiritual values altogether\". His experience in the United States formed in part the impetus for his rejection of Western values and his move towards Islamism upon returning to Egypt. Resigning from the civil service, he joined the Muslim Brotherhood in the early 1950s[42] and became editor-in-chief of the Brothers' weekly Al-Ikhwan al-Muslimin, and later head of its propaganda[43][44] section, as well as an appointed member of the working committee and of its guidance council, the highest branch in the organization.[45]\n",
      "You are an expert English grammarian and writer. Given a multiple choice quiz for History students.You need to evaluate the complexity of the question and give a complete analysis of the quiz. Only use at max 50 words for the complexity,\n",
      "if the quiz is not as per with the cognitive and analytical abilities of the students,update the quiz questions which needs to be changed and change the tone such that it perfectly fits the students ability.\n",
      "Quiz_MCQs:\n",
      "\n",
      "{\n",
      "\"1\": {\n",
      "\"mcq\": \"What was the main reason for Sayyid Qutb's criticism of American society in his work 'The America that I Have Seen'?\",\n",
      "\"options\": {\n",
      "\"a\": \"Their support for the new Israeli state\",\n",
      "\"b\": \"Their strong artistic values\",\n",
      "\"c\": \"Their commitment to spiritual values\",\n",
      "\"d\": \"Their materialism and superficiality\"\n",
      "},\n",
      "\"correct\": \"d\"\n",
      "},\n",
      "\"2\": {\n",
      "\"mcq\": \"In what year was Sayyid Qutb born?\",\n",
      "\"options\": {\n",
      "\"a\": \"1906\",\n",
      "\"b\": \"1966\",\n",
      "\"c\": \"1949\",\n",
      "\"d\": \"1929\"\n",
      "},\n",
      "\"correct\": \"a\"\n",
      "},\n",
      "\"3\": {\n",
      "\"mcq\": \"Where did Sayyid Qutb study the educational system of the United States?\",\n",
      "\"options\": {\n",
      "\"a\": \"Stanford University\",\n",
      "\"b\": \"Colorado State College for Education\",\n",
      "\"c\": \"Wilson Teachers' College\",\n",
      "\"d\": \"All of the above\"\n",
      "},\n",
      "\"correct\": \"d\"\n",
      "},\n",
      "\"4\": {\n",
      "\"mcq\": \"What was the title of Sayyid Qutb's first major theoretical work of religious social criticism?\",\n",
      "\"options\": {\n",
      "\"a\": \"Ashwak (Thorns)\",\n",
      "\"b\": \"Muhimmat al-Sha’ir fi al-Haya wa Shi’r al-Jil al-Hadir\",\n",
      "\"c\": \"Social Justice in Islam\",\n",
      "\"d\": \"The Mission of the Poet in Life and the Poetry of the Present Generation\"\n",
      "},\n",
      "\"correct\": \"c\"\n",
      "},\n",
      "\"5\": {\n",
      "\"mcq\": \"What organization did Sayyid Qutb join in the early 1950s upon returning to Egypt?\",\n",
      "\"options\": {\n",
      "\"a\": \"Muslim Brotherhood\",\n",
      "\"b\": \"Al-Qaeda\",\n",
      "\"c\": \"Islamic State of Iraq and the Levant (ISIL)\",\n",
      "\"d\": \"United Nations\"\n",
      "},\n",
      "\"correct\": \"a\"\n",
      "}\n",
      "}\n",
      "\n",
      "\n",
      "Check from an expert English Writer of the above quiz:\n",
      "\u001b[0m\n",
      "\n",
      "\u001b[1m> Finished chain.\u001b[0m\n",
      "\n",
      "\u001b[1m> Finished chain.\u001b[0m\n"
     ]
    }
   ],
   "source": [
    "#https://python.langchain.com/v0.1/docs/modules/model_io/llms/token_usage_tracking/\n",
    "\n",
    "# how to setup token usage Tracking in Langchain\n",
    "with get_openai_callback() as cb:\n",
    "    response=generate_evaluate_chain(\n",
    "        {\n",
    "            \"text\" : TEXT,\n",
    "            \"number\" : NUMBER,\n",
    "            \"subject\" : SUBJECT,\n",
    "            \"tone\" : TONE,\n",
    "            \"response_json\" : json_str\n",
    "        }\n",
    "    )"
   ]
  },
  {
   "cell_type": "code",
   "execution_count": 28,
   "metadata": {},
   "outputs": [
    {
     "name": "stdout",
     "output_type": "stream",
     "text": [
      "Total Tokens: 6730\n",
      "Prompt Tokens: 6258\n",
      "Completion Tokens: 472\n",
      "Total Cost (USD): $0.010331\n"
     ]
    }
   ],
   "source": [
    "#let's show the number of tokens , input tokens, output tokens and total cost\n",
    "print(f\"Total Tokens: {cb.total_tokens}\")\n",
    "print(f\"Prompt Tokens: {cb.prompt_tokens}\")\n",
    "print(f\"Completion Tokens: {cb.completion_tokens}\")\n",
    "print(f\"Total Cost (USD): ${cb.total_cost}\")\n"
   ]
  },
  {
   "cell_type": "code",
   "execution_count": 29,
   "metadata": {},
   "outputs": [
    {
     "data": {
      "text/plain": [
       "{'text': 'Sayyid Ibrahim Husayn Shadhili Qutb[a] (9 October 1906 – 29 August 1966) was an Egyptian political theorist and revolutionary who was a leading member of the Muslim Brotherhood. He is dubbed the \"father of Salafi jihadism\", the religio-political doctrine that underpins the ideological roots of global jihadist organisations such as al-Qaeda and ISIL.\\n\\nAuthor of 24 books,[5] with around 30 books unpublished for different reasons (mainly destruction by the state),[6] and at least 581 articles,[7] including novels, literary arts critique and works on education, he is best known in the Muslim world for his work on what he believed to be the social and political role of Islam, particularly in his books Social Justice and Ma\\'alim fi al-Tariq (Milestones). His magnum opus, Fi Zilal al-Qur\\'an (In the Shade of the Qur\\'an), is a 30-volume commentary on the Quran.[8]\\n\\nDuring most of his life, Qutb\\'s inner circle mainly consisted of influential politicians, intellectuals, poets and literary figures, both of his age and of the preceding generation. By the mid-1940s, many of his writings were included in the curricula of schools, colleges and universities.[9] In 1966, he was convicted of plotting the assassination of Egyptian President Gamal Abdel Nasser and was executed by hanging.\\n\\nEven though most of his observations and criticism were leveled at the Muslim world, Qutb also intensely disapproved of the society and culture of the United States,[10][11] which he saw as materialistic, and obsessed with violence and sexual pleasures.[12] He advocated violent, offensive jihad.[13][14] Qutb has been described by followers as a great thinker and martyr for Islam,[15][16] while many Western observers (and some Muslims)[Note 2] see him as a key originator of Islamist ideology,[18] and an inspiration for violent Islamist groups such as al-Qaeda. Qutb is widely regarded as one of the most leading Islamist ideologues of the twentieth century. Strengthened by his status as a martyr, Qutb\\'s ideas on Jahiliyya and his close linking of implementation of sharia (Islamic Law) with Tawhid (Islamic monotheism) has highly influenced contemporary Islamist and Jihadist movements.[19] Today, his supporters are identified by their opponents as \"Qutbists\"[20] or \"Qutbi\".[21]\\n\\nLife and public career\\nEarly life\\nSayyid Ibrahim Husayn Shadhili Qutb was born on 9 October 1906.[22] He was raised in the Egyptian village of Musha, located in Upper Egypt\\'s Asyut Province. His father, whose sixth great-grandfather was an Indian Muslim,[23][24] was an Upper Egyptian landowner and the administrator of the family estate, but he was also well known for his political activism, holding weekly meetings to discuss the political events and Qur\\'anic recitation.[25][23][24] At this young age, Sayyid Qutb first learned about melodic recitations of the Qur\\'an, which would fuel the artistic side of his personality. He eventually memorized the whole Qur\\'an at 10.[26]\\n\\nA precocious child, during these years, he began collecting different types of books, including Sherlock Holmes stories, A Thousand and One Nights, and texts on astrology and magic that he would use to help local people with exorcisms (ruqya.)[27] In his teens, Qutb was critical of the religious institutions with which he came into contact, holding in contempt the way in which those institutions were used to form public opinion and thoughts. He had a special disdain, however, for schools that specialized in religious studies only, and sought to demonstrate that local schools that held regular academic classes as well as classes in religion were more beneficial to their pupils than religious schools with lopsided curricula. At this time, Qutb developed his bent against the imams and their traditional approach to education. This confrontation would persist throughout his life.[28]\\n\\nQutb moved to Cairo, where between 1929 and 1933 he received an education based on the British style of schooling before starting his career as a teacher in the Ministry of Public Instruction. During his early career, Qutb devoted himself to literature as an author and critic, writing such novels as Ashwak (Thorns) and even helped to elevate Egyptian novelist Naguib Mahfouz from obscurity. He wrote his very first article in the literary magazine al-Balagh in 1922, and his first book, Muhimmat al-Sha’ir fi al-Haya wa Shi’r al-Jil al-Hadir (The Mission of the Poet in Life and the Poetry of the Present Generation), in 1932, when he was 25, in his last year at Dar al-Ulum.[29] As a literary critic, he was particularly influenced by ‘Abd al-Qahir al-Jurjani (d. 1078), \"in his view one of the few mediaeval philologists to have concentrated on meaning and aesthetic value at the expense of form and rhetoric.\"[30] In 1939, he became a functionary in Egypt\\'s Ministry of Education (wizarat al-ma\\'arif).\\n\\nIn the early 1940s, he encountered the work of Nobel Prize-winner French eugenicist Alexis Carrel, who would have a seminal and lasting influence on his criticism of Western civilization, as \"instead of liberating man, as the post-Enlightenment narrative claimed, he believed that Western modernity enmeshed people in spiritually numbing networks of control and discipline, and that rather than building caring communities, it cultivated attitudes of selfish individualism. Qutb regarded Carrel as a rare sort of Western thinker, one who understood that his civilization \"depreciated humanity\" by honouring the \"machine\" over the \"spirit and soul\" (al-nafs wa al-ruh). He saw Carrel\\'s critique, coming as it did from within the enemy camp, as providing his discourse with an added measure of legitimacy.\"[31]\\n\\nFrom 1948 to 1950, he went to the United States on a scholarship to study its educational system, spending several months at Colorado State College of Education (now the University of Northern Colorado) in Greeley, Colorado. Qutb\\'s first major theoretical work of religious social criticism, Al-\\'adala al-Ijtima\\'iyya fi-l-Islam (Social Justice in Islam), was published in 1949, during his time in the West.\\n\\nThough Islam gave him much peace and contentment,[32] he suffered from respiratory and other health problems throughout his life and was known for \"his introvertedness, isolation, depression and concern.\" In appearance, he was \"pale with sleepy eyes.\"[33] Qutb never married, in part because of his steadfast religious convictions. While the urban Egyptian society he lived in was becoming more Westernized, Qutb believed the Quran taught women that \\'Men are the managers of women\\'s affairs ...\\'[34] Qutb lamented to his readers that he was never able to find a woman of sufficient \"moral purity and discretion\" and had to reconcile himself to bachelorhood.[35]\\n\\nIt was clear from his childhood that Qutb valued education, playing the part of a teacher to the women in his village:\\n\\n\"Syed Qutb from a young age would save up his money for a man called Amsaalih, who used to sell books around the local villages. He would have a big collection of books, and another small collection specifically for Syed Qutb. If Syed never had the money, he would tell him that I don\\'t have the money now, so let me borrow it and I\\'ll give it you next time you come around. And Amsaalih would let him do that. At the age of 12, he had his own library collection of 25 books, even though books were really expensive during that time. He would imitate the scholars by reading the books, and then give lectures to the rest of the village. If any women needed any information, they would wait till Syed Qutb came back from school, and ask him to share the knowledge he had to them. In many occasions he would be shy because he was a young man, but in some occasions he would go and teach the knowledge he had to the people who asked him.\"[36]\\n\\nTwo years in the United States\\nTime in the United States, pursuing further studies in educational administration, cemented some of Qutb\\'s views. Over two years, he worked and studied at Wilson Teachers\\' College in Washington, D.C. (one of the precursors to today\\'s University of the District of Columbia), Colorado State College for Education (now the University of Northern Colorado) in Greeley, and Stanford University.[37] He visited the major cities of the United States and spent time in Europe on his journey home.\\n\\nBefore his departure from the United States, even though more and more conservative, he still was \"Western in so many ways – his dress, his love of classical music and Hollywood movies. He had read, in translation, the works of Charles Darwin and Albert Einstein, Lord Byron and Percy Bysshe Shelley, and had immersed himself in French literature, especially Victor Hugo\".[38]\\n\\nCriticisms of American culture and society: \"The America that I Have Seen\"\\nOn his return to Egypt, Qutb in 1951 published \"The America that I Have Seen\", where he became explicitly critical of things he had observed in the United States, eventually encapsulating the West more generally: its materialism, individual freedoms, economic system, \"poor\" haircuts,[11] superficiality in conversations and friendships,[39] restrictions on divorce, enthusiasm for sports, lack of artistic feeling,[39] \"animal-like\" mixing of the genders (which \"went on even in churches\"),[40] and strong support for the new Israeli state.[41] Hisham Sabrin, noted that:\\n\\nAs a brown person in Greeley, Colorado in the late 1940s studying English he came across much prejudice. He was appalled by what he perceived as loose sexual openness of American men and women (a far cry from his home of Musha, Asyut). This American experience was for him a fine-tuning of his Islamic identity. He himself tells us on his boat trip over \"Should I travel to America, and become flimsy, and ordinary, like those who are satisfied with idle talk and sleep. Or should I distinguish myself with values and spirit. Is there other than Islam that I should be steadfast to in its character and hold on to its instructions, in this life amidst deviant chaos, and the endless means of satisfying animalistic desires, pleasures, and awful sins? I wanted to be the latter man.\"[citation needed]\\n\\nQutb noted with disapproval the openly displayed sexuality of American women:\\n\\nThe American girl is well acquainted with her body\\'s seductive capacity. She knows it lies in the face, and in expressive eyes, and thirsty lips. She knows seductiveness lies in the round breasts, the full buttocks, and in the shapely thighs, sleek legs—and she shows all this and does not hide it.[11]\\n\\nHe also commented on the American taste in arts:\\n\\nThe American is primitive in his artistic taste, both in what he enjoys as art and in his own artistic works. \"Jazz\" music is his music of choice. This is that music that the Negroes invented to satisfy their primitive inclinations, as well as their desire to be noisy on the one hand and to excite bestial tendencies on the other. The American\\'s intoxication in \"jazz\" music does not reach its full completion until the music is accompanied by singing that is just as coarse and obnoxious as the music itself. Meanwhile, the noise of the instruments and the voices mounts, and it rings in the ears to an unbearable degree ... The agitation of the multitude increases, and the voices of approval mount, and their palms ring out in vehement, continuous applause that all but deafens the ears.[39]\\n\\nReturn to Egypt\\nQutb concluded that major aspects of American life were primitive and \"shocking\"; he saw Americans as \"numb to faith in religion, faith in art, and faith in spiritual values altogether\". His experience in the United States formed in part the impetus for his rejection of Western values and his move towards Islamism upon returning to Egypt. Resigning from the civil service, he joined the Muslim Brotherhood in the early 1950s[42] and became editor-in-chief of the Brothers\\' weekly Al-Ikhwan al-Muslimin, and later head of its propaganda[43][44] section, as well as an appointed member of the working committee and of its guidance council, the highest branch in the organization.[45]',\n",
       " 'number': 5,\n",
       " 'subject': 'History',\n",
       " 'tone': 'Formal',\n",
       " 'response_json': '{\"1\": {\"mcq\": \"multiple choice question\", \"options\": {\"a\": \"choice here\", \"b\": \"choice here\", \"c\": \"choice here\", \"d\": \"choice here\"}, \"correct\": \"correct answer\"}, \"2\": {\"mcq\": \"multiple choice question\", \"options\": {\"a\": \"choice here\", \"b\": \"choice here\", \"c\": \"choice here\", \"d\": \"choice here\"}, \"correct\": \"correct answer\"}, \"3\": {\"mcq\": \"multiple choice question\", \"options\": {\"a\": \"choice here\", \"b\": \"choice here\", \"c\": \"choice here\", \"d\": \"choice here\"}, \"correct\": \"correct answer\"}, \"4\": {\"mcq\": \"multiple choice question\", \"options\": {\"a\": \"choice here\", \"b\": \"choice here\", \"c\": \"choice here\", \"d\": \"choice here\"}, \"correct\": \"correct answer\"}, \"5\": {\"mcq\": \"multiple choice question\", \"options\": {\"a\": \"choice here\", \"b\": \"choice here\", \"c\": \"choice here\", \"d\": \"choice here\"}, \"correct\": \"correct answer\"}}',\n",
       " 'quiz': '\\n{\\n\"1\": {\\n\"mcq\": \"What was the main reason for Sayyid Qutb\\'s criticism of American society in his work \\'The America that I Have Seen\\'?\",\\n\"options\": {\\n\"a\": \"Their support for the new Israeli state\",\\n\"b\": \"Their strong artistic values\",\\n\"c\": \"Their commitment to spiritual values\",\\n\"d\": \"Their materialism and superficiality\"\\n},\\n\"correct\": \"d\"\\n},\\n\"2\": {\\n\"mcq\": \"In what year was Sayyid Qutb born?\",\\n\"options\": {\\n\"a\": \"1906\",\\n\"b\": \"1966\",\\n\"c\": \"1949\",\\n\"d\": \"1929\"\\n},\\n\"correct\": \"a\"\\n},\\n\"3\": {\\n\"mcq\": \"Where did Sayyid Qutb study the educational system of the United States?\",\\n\"options\": {\\n\"a\": \"Stanford University\",\\n\"b\": \"Colorado State College for Education\",\\n\"c\": \"Wilson Teachers\\' College\",\\n\"d\": \"All of the above\"\\n},\\n\"correct\": \"d\"\\n},\\n\"4\": {\\n\"mcq\": \"What was the title of Sayyid Qutb\\'s first major theoretical work of religious social criticism?\",\\n\"options\": {\\n\"a\": \"Ashwak (Thorns)\",\\n\"b\": \"Muhimmat al-Sha’ir fi al-Haya wa Shi’r al-Jil al-Hadir\",\\n\"c\": \"Social Justice in Islam\",\\n\"d\": \"The Mission of the Poet in Life and the Poetry of the Present Generation\"\\n},\\n\"correct\": \"c\"\\n},\\n\"5\": {\\n\"mcq\": \"What organization did Sayyid Qutb join in the early 1950s upon returning to Egypt?\",\\n\"options\": {\\n\"a\": \"Muslim Brotherhood\",\\n\"b\": \"Al-Qaeda\",\\n\"c\": \"Islamic State of Iraq and the Levant (ISIL)\",\\n\"d\": \"United Nations\"\\n},\\n\"correct\": \"a\"\\n}\\n}',\n",
       " 'review': 'The quiz is appropriate for history students as it tests knowledge of Sayyid Qutb\\'s life and beliefs. However, the questions could be simplified for better comprehension. For example, changing complex language in question 4 to \"What was the title of Qutb\\'s first major work on religion?\" and providing clearer answer choices.'}"
      ]
     },
     "execution_count": 29,
     "metadata": {},
     "output_type": "execute_result"
    }
   ],
   "source": [
    " #let try to get a response or quiz\n",
    "response"
   ]
  },
  {
   "cell_type": "code",
   "execution_count": 30,
   "metadata": {},
   "outputs": [],
   "source": [
    "quiz=response.get(\"quiz\")"
   ]
  },
  {
   "cell_type": "code",
   "execution_count": 31,
   "metadata": {},
   "outputs": [],
   "source": [
    "quiz=json.loads(quiz)"
   ]
  },
  {
   "cell_type": "code",
   "execution_count": 33,
   "metadata": {},
   "outputs": [],
   "source": [
    "# data frame for this dictionary\n",
    "quiz_table_data = []\n",
    "for key, value in quiz.items():\n",
    "    mcq = value[\"mcq\"]\n",
    "    options = \" | \" .join(\n",
    "        [\n",
    "        f\"{option}:{option_value}\"\n",
    "        for option, option_value in value[\"options\"].items()\n",
    "    ]\n",
    "    )\n",
    "    correct = value[\"correct\"]\n",
    "    quiz_table_data.append({\"MCQ\": mcq ,\"Choices\" : options, \"Correct\": correct})"
   ]
  },
  {
   "cell_type": "code",
   "execution_count": 110,
   "metadata": {},
   "outputs": [
    {
     "data": {
      "text/plain": [
       "[{'MCQ': \"What was the main reason for Sayyid Qutb's criticism of American culture?\",\n",
       "  'Choices': 'a:Their support for the new Israeli state | b:Their love of classical music | c:Their restrictions on divorce | d:Their materialism',\n",
       "  'Correct': 'd'},\n",
       " {'MCQ': 'Where did Sayyid Qutb study the educational system of the United States?',\n",
       "  'Choices': \"a:University of Northern Colorado | b:Stanford University | c:Both a and b | d:Wilson Teachers' College\",\n",
       "  'Correct': 'c'},\n",
       " {'MCQ': 'What was the title of the first major theoretical work of religious social criticism by Sayyid Qutb?',\n",
       "  'Choices': 'a:Social Justice in Islam | b:The Mission of the Poet in Life | c:The America that I Have Seen | d:Ashwak (Thorns)',\n",
       "  'Correct': 'a'},\n",
       " {'MCQ': \"What did Sayyid Qutb find primitive and 'shocking' about American life?\",\n",
       "  'Choices': 'a:Their artistic taste | b:Their faith in spiritual values | c:Their support for Western values | d:Their love of sports',\n",
       "  'Correct': 'b'},\n",
       " {'MCQ': 'In which Egyptian village was Sayyid Qutb raised?',\n",
       "  'Choices': 'a:Musha | b:Greeley | c:Cairo | d:Asyut',\n",
       "  'Correct': 'a'}]"
      ]
     },
     "execution_count": 110,
     "metadata": {},
     "output_type": "execute_result"
    }
   ],
   "source": [
    "quiz_table_data"
   ]
  },
  {
   "cell_type": "code",
   "execution_count": 34,
   "metadata": {},
   "outputs": [
    {
     "data": {
      "text/html": [
       "<div>\n",
       "<style scoped>\n",
       "    .dataframe tbody tr th:only-of-type {\n",
       "        vertical-align: middle;\n",
       "    }\n",
       "\n",
       "    .dataframe tbody tr th {\n",
       "        vertical-align: top;\n",
       "    }\n",
       "\n",
       "    .dataframe thead th {\n",
       "        text-align: right;\n",
       "    }\n",
       "</style>\n",
       "<table border=\"1\" class=\"dataframe\">\n",
       "  <thead>\n",
       "    <tr style=\"text-align: right;\">\n",
       "      <th></th>\n",
       "      <th>MCQ</th>\n",
       "      <th>Choices</th>\n",
       "      <th>Correct</th>\n",
       "    </tr>\n",
       "  </thead>\n",
       "  <tbody>\n",
       "    <tr>\n",
       "      <th>0</th>\n",
       "      <td>What was the main reason for Sayyid Qutb's cri...</td>\n",
       "      <td>a:Their support for the new Israeli state | b:...</td>\n",
       "      <td>d</td>\n",
       "    </tr>\n",
       "    <tr>\n",
       "      <th>1</th>\n",
       "      <td>In what year was Sayyid Qutb born?</td>\n",
       "      <td>a:1906 | b:1966 | c:1949 | d:1929</td>\n",
       "      <td>a</td>\n",
       "    </tr>\n",
       "    <tr>\n",
       "      <th>2</th>\n",
       "      <td>Where did Sayyid Qutb study the educational sy...</td>\n",
       "      <td>a:Stanford University | b:Colorado State Colle...</td>\n",
       "      <td>d</td>\n",
       "    </tr>\n",
       "    <tr>\n",
       "      <th>3</th>\n",
       "      <td>What was the title of Sayyid Qutb's first majo...</td>\n",
       "      <td>a:Ashwak (Thorns) | b:Muhimmat al-Sha’ir fi al...</td>\n",
       "      <td>c</td>\n",
       "    </tr>\n",
       "    <tr>\n",
       "      <th>4</th>\n",
       "      <td>What organization did Sayyid Qutb join in the ...</td>\n",
       "      <td>a:Muslim Brotherhood | b:Al-Qaeda | c:Islamic ...</td>\n",
       "      <td>a</td>\n",
       "    </tr>\n",
       "  </tbody>\n",
       "</table>\n",
       "</div>"
      ],
      "text/plain": [
       "                                                 MCQ  \\\n",
       "0  What was the main reason for Sayyid Qutb's cri...   \n",
       "1                 In what year was Sayyid Qutb born?   \n",
       "2  Where did Sayyid Qutb study the educational sy...   \n",
       "3  What was the title of Sayyid Qutb's first majo...   \n",
       "4  What organization did Sayyid Qutb join in the ...   \n",
       "\n",
       "                                             Choices Correct  \n",
       "0  a:Their support for the new Israeli state | b:...       d  \n",
       "1                  a:1906 | b:1966 | c:1949 | d:1929       a  \n",
       "2  a:Stanford University | b:Colorado State Colle...       d  \n",
       "3  a:Ashwak (Thorns) | b:Muhimmat al-Sha’ir fi al...       c  \n",
       "4  a:Muslim Brotherhood | b:Al-Qaeda | c:Islamic ...       a  "
      ]
     },
     "execution_count": 34,
     "metadata": {},
     "output_type": "execute_result"
    }
   ],
   "source": [
    "quiz=pd.DataFrame(quiz_table_data)\n",
    "quiz"
   ]
  },
  {
   "cell_type": "code",
   "execution_count": 35,
   "metadata": {},
   "outputs": [],
   "source": [
    "quiz.to_csv(\"syedqutab.csv\", index=False)"
   ]
  },
  {
   "cell_type": "code",
   "execution_count": 36,
   "metadata": {},
   "outputs": [
    {
     "data": {
      "text/plain": [
       "'09_09_2024_16_22_11'"
      ]
     },
     "execution_count": 36,
     "metadata": {},
     "output_type": "execute_result"
    }
   ],
   "source": [
    "from datetime import datetime\n",
    "datetime.now().strftime('%m_%d_%Y_%H_%M_%S')"
   ]
  }
 ],
 "metadata": {
  "kernelspec": {
   "display_name": "mcqenv",
   "language": "python",
   "name": "python3"
  },
  "language_info": {
   "codemirror_mode": {
    "name": "ipython",
    "version": 3
   },
   "file_extension": ".py",
   "mimetype": "text/x-python",
   "name": "python",
   "nbconvert_exporter": "python",
   "pygments_lexer": "ipython3",
   "version": "3.12.3"
  }
 },
 "nbformat": 4,
 "nbformat_minor": 2
}
